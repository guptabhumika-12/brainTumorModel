{
 "cells": [
  {
   "cell_type": "code",
   "execution_count": 21,
   "metadata": {},
   "outputs": [],
   "source": [
    "%matplotlib inline\n",
    "import os\n",
    "import cv2 as cv\n",
    "import numpy as np\n",
    "import pandas as pd\n",
    "import pickle as pkl\n",
    "import matplotlib.pyplot as plt\n",
    "import itertools\n",
    "from sklearn.model_selection import train_test_split\n",
    "from sklearn.ensemble import RandomForestClassifier\n",
    "from sklearn.model_selection import train_test_split\n",
    "from sklearn.metrics import confusion_matrix\n",
    "from sklearn.metrics import classification_report\n",
    "from sklearn.metrics import accuracy_score\n",
    "# from skimage.io import imread\n",
    "# from skimage.feature import greycomatrix, greycoprops\n",
    "# from sklearn import preprocessing\n",
    "import warnings\n",
    "warnings.filterwarnings('ignore')"
   ]
  },
  {
   "cell_type": "code",
   "execution_count": 22,
   "metadata": {},
   "outputs": [
    {
     "data": {
      "text/html": [
       "<div>\n",
       "<style scoped>\n",
       "    .dataframe tbody tr th:only-of-type {\n",
       "        vertical-align: middle;\n",
       "    }\n",
       "\n",
       "    .dataframe tbody tr th {\n",
       "        vertical-align: top;\n",
       "    }\n",
       "\n",
       "    .dataframe thead th {\n",
       "        text-align: right;\n",
       "    }\n",
       "</style>\n",
       "<table border=\"1\" class=\"dataframe\">\n",
       "  <thead>\n",
       "    <tr style=\"text-align: right;\">\n",
       "      <th></th>\n",
       "      <th>Contrast</th>\n",
       "      <th>Energy</th>\n",
       "      <th>Homogeneity</th>\n",
       "      <th>Correlation</th>\n",
       "      <th>Dissimilarity</th>\n",
       "      <th>ASM</th>\n",
       "      <th>Area</th>\n",
       "      <th>Perimeter</th>\n",
       "      <th>Epsilon</th>\n",
       "      <th>IsConvex</th>\n",
       "      <th>Class</th>\n",
       "    </tr>\n",
       "  </thead>\n",
       "  <tbody>\n",
       "    <tr>\n",
       "      <th>0</th>\n",
       "      <td>0.523178</td>\n",
       "      <td>0.534400</td>\n",
       "      <td>0.879987</td>\n",
       "      <td>0.966634</td>\n",
       "      <td>0.274531</td>\n",
       "      <td>0.285584</td>\n",
       "      <td>0.5</td>\n",
       "      <td>3.414214</td>\n",
       "      <td>0.341421</td>\n",
       "      <td>1.0</td>\n",
       "      <td>0</td>\n",
       "    </tr>\n",
       "    <tr>\n",
       "      <th>1</th>\n",
       "      <td>0.523170</td>\n",
       "      <td>0.419387</td>\n",
       "      <td>0.867636</td>\n",
       "      <td>0.966631</td>\n",
       "      <td>0.303373</td>\n",
       "      <td>0.175885</td>\n",
       "      <td>0.0</td>\n",
       "      <td>0.000000</td>\n",
       "      <td>0.000000</td>\n",
       "      <td>0.0</td>\n",
       "      <td>0</td>\n",
       "    </tr>\n",
       "    <tr>\n",
       "      <th>2</th>\n",
       "      <td>0.374648</td>\n",
       "      <td>0.511641</td>\n",
       "      <td>0.885670</td>\n",
       "      <td>0.966433</td>\n",
       "      <td>0.250558</td>\n",
       "      <td>0.261776</td>\n",
       "      <td>11.5</td>\n",
       "      <td>15.071068</td>\n",
       "      <td>1.507107</td>\n",
       "      <td>0.0</td>\n",
       "      <td>0</td>\n",
       "    </tr>\n",
       "    <tr>\n",
       "      <th>3</th>\n",
       "      <td>0.324349</td>\n",
       "      <td>0.546864</td>\n",
       "      <td>0.899062</td>\n",
       "      <td>0.974246</td>\n",
       "      <td>0.219881</td>\n",
       "      <td>0.299060</td>\n",
       "      <td>4.0</td>\n",
       "      <td>7.656854</td>\n",
       "      <td>0.765685</td>\n",
       "      <td>1.0</td>\n",
       "      <td>0</td>\n",
       "    </tr>\n",
       "    <tr>\n",
       "      <th>4</th>\n",
       "      <td>0.332299</td>\n",
       "      <td>0.549499</td>\n",
       "      <td>0.902133</td>\n",
       "      <td>0.972292</td>\n",
       "      <td>0.215157</td>\n",
       "      <td>0.301950</td>\n",
       "      <td>10.0</td>\n",
       "      <td>12.485281</td>\n",
       "      <td>1.248528</td>\n",
       "      <td>1.0</td>\n",
       "      <td>0</td>\n",
       "    </tr>\n",
       "    <tr>\n",
       "      <th>...</th>\n",
       "      <td>...</td>\n",
       "      <td>...</td>\n",
       "      <td>...</td>\n",
       "      <td>...</td>\n",
       "      <td>...</td>\n",
       "      <td>...</td>\n",
       "      <td>...</td>\n",
       "      <td>...</td>\n",
       "      <td>...</td>\n",
       "      <td>...</td>\n",
       "      <td>...</td>\n",
       "    </tr>\n",
       "    <tr>\n",
       "      <th>1180</th>\n",
       "      <td>0.859299</td>\n",
       "      <td>0.393714</td>\n",
       "      <td>0.832157</td>\n",
       "      <td>0.961242</td>\n",
       "      <td>0.404434</td>\n",
       "      <td>0.155011</td>\n",
       "      <td>2.0</td>\n",
       "      <td>5.656854</td>\n",
       "      <td>0.565685</td>\n",
       "      <td>1.0</td>\n",
       "      <td>2</td>\n",
       "    </tr>\n",
       "    <tr>\n",
       "      <th>1181</th>\n",
       "      <td>0.800144</td>\n",
       "      <td>0.533445</td>\n",
       "      <td>0.882460</td>\n",
       "      <td>0.951564</td>\n",
       "      <td>0.302921</td>\n",
       "      <td>0.284563</td>\n",
       "      <td>10.0</td>\n",
       "      <td>12.485281</td>\n",
       "      <td>1.248528</td>\n",
       "      <td>0.0</td>\n",
       "      <td>2</td>\n",
       "    </tr>\n",
       "    <tr>\n",
       "      <th>1182</th>\n",
       "      <td>0.804003</td>\n",
       "      <td>0.529986</td>\n",
       "      <td>0.871638</td>\n",
       "      <td>0.965641</td>\n",
       "      <td>0.321854</td>\n",
       "      <td>0.280885</td>\n",
       "      <td>0.0</td>\n",
       "      <td>0.000000</td>\n",
       "      <td>0.000000</td>\n",
       "      <td>0.0</td>\n",
       "      <td>2</td>\n",
       "    </tr>\n",
       "    <tr>\n",
       "      <th>1183</th>\n",
       "      <td>1.564466</td>\n",
       "      <td>0.306192</td>\n",
       "      <td>0.753381</td>\n",
       "      <td>0.877377</td>\n",
       "      <td>0.649148</td>\n",
       "      <td>0.093753</td>\n",
       "      <td>0.0</td>\n",
       "      <td>0.000000</td>\n",
       "      <td>0.000000</td>\n",
       "      <td>0.0</td>\n",
       "      <td>2</td>\n",
       "    </tr>\n",
       "    <tr>\n",
       "      <th>1184</th>\n",
       "      <td>0.787919</td>\n",
       "      <td>0.559099</td>\n",
       "      <td>0.883665</td>\n",
       "      <td>0.966690</td>\n",
       "      <td>0.299279</td>\n",
       "      <td>0.312591</td>\n",
       "      <td>12.0</td>\n",
       "      <td>13.313708</td>\n",
       "      <td>1.331371</td>\n",
       "      <td>1.0</td>\n",
       "      <td>2</td>\n",
       "    </tr>\n",
       "  </tbody>\n",
       "</table>\n",
       "<p>1185 rows × 11 columns</p>\n",
       "</div>"
      ],
      "text/plain": [
       "      Contrast    Energy  Homogeneity  Correlation  Dissimilarity       ASM  \\\n",
       "0     0.523178  0.534400     0.879987     0.966634       0.274531  0.285584   \n",
       "1     0.523170  0.419387     0.867636     0.966631       0.303373  0.175885   \n",
       "2     0.374648  0.511641     0.885670     0.966433       0.250558  0.261776   \n",
       "3     0.324349  0.546864     0.899062     0.974246       0.219881  0.299060   \n",
       "4     0.332299  0.549499     0.902133     0.972292       0.215157  0.301950   \n",
       "...        ...       ...          ...          ...            ...       ...   \n",
       "1180  0.859299  0.393714     0.832157     0.961242       0.404434  0.155011   \n",
       "1181  0.800144  0.533445     0.882460     0.951564       0.302921  0.284563   \n",
       "1182  0.804003  0.529986     0.871638     0.965641       0.321854  0.280885   \n",
       "1183  1.564466  0.306192     0.753381     0.877377       0.649148  0.093753   \n",
       "1184  0.787919  0.559099     0.883665     0.966690       0.299279  0.312591   \n",
       "\n",
       "      Area  Perimeter   Epsilon  IsConvex  Class  \n",
       "0      0.5   3.414214  0.341421       1.0      0  \n",
       "1      0.0   0.000000  0.000000       0.0      0  \n",
       "2     11.5  15.071068  1.507107       0.0      0  \n",
       "3      4.0   7.656854  0.765685       1.0      0  \n",
       "4     10.0  12.485281  1.248528       1.0      0  \n",
       "...    ...        ...       ...       ...    ...  \n",
       "1180   2.0   5.656854  0.565685       1.0      2  \n",
       "1181  10.0  12.485281  1.248528       0.0      2  \n",
       "1182   0.0   0.000000  0.000000       0.0      2  \n",
       "1183   0.0   0.000000  0.000000       0.0      2  \n",
       "1184  12.0  13.313708  1.331371       1.0      2  \n",
       "\n",
       "[1185 rows x 11 columns]"
      ]
     },
     "execution_count": 22,
     "metadata": {},
     "output_type": "execute_result"
    }
   ],
   "source": [
    "data_as_frame = pd.read_csv(\"data.csv\")\n",
    "data_as_frame"
   ]
  },
  {
   "cell_type": "code",
   "execution_count": 23,
   "metadata": {},
   "outputs": [
    {
     "data": {
      "text/plain": [
       "array([0, 1, 2], dtype=int64)"
      ]
     },
     "execution_count": 23,
     "metadata": {},
     "output_type": "execute_result"
    }
   ],
   "source": [
    "data_as_frame['Class'].unique()"
   ]
  },
  {
   "cell_type": "code",
   "execution_count": 24,
   "metadata": {},
   "outputs": [
    {
     "name": "stdout",
     "output_type": "stream",
     "text": [
      "<class 'pandas.core.frame.DataFrame'>\n",
      "RangeIndex: 1185 entries, 0 to 1184\n",
      "Data columns (total 11 columns):\n",
      " #   Column         Non-Null Count  Dtype  \n",
      "---  ------         --------------  -----  \n",
      " 0   Contrast       1185 non-null   float64\n",
      " 1   Energy         1185 non-null   float64\n",
      " 2   Homogeneity    1185 non-null   float64\n",
      " 3   Correlation    1185 non-null   float64\n",
      " 4   Dissimilarity  1185 non-null   float64\n",
      " 5   ASM            1185 non-null   float64\n",
      " 6   Area           1185 non-null   float64\n",
      " 7   Perimeter      1185 non-null   float64\n",
      " 8   Epsilon        1185 non-null   float64\n",
      " 9   IsConvex       1185 non-null   float64\n",
      " 10  Class          1185 non-null   int64  \n",
      "dtypes: float64(10), int64(1)\n",
      "memory usage: 102.0 KB\n"
     ]
    }
   ],
   "source": [
    "data_as_frame.info()"
   ]
  },
  {
   "cell_type": "code",
   "execution_count": 25,
   "metadata": {},
   "outputs": [],
   "source": [
    "def nullAnalysis(df):\n",
    "    tab_info=pd.DataFrame(df.dtypes).T.rename(index={0:'column type'})\n",
    "\n",
    "    tab_info=tab_info.append(pd.DataFrame(df.isnull().sum()).T.rename(index={0:'null values (nb)'}))\n",
    "    tab_info=tab_info.append(pd.DataFrame(df.isnull().sum()/df.shape[0]*100).T.rename(index={0:'null values (%)'}))\n",
    "    return tab_info"
   ]
  },
  {
   "cell_type": "code",
   "execution_count": 26,
   "metadata": {},
   "outputs": [
    {
     "data": {
      "text/html": [
       "<div>\n",
       "<style scoped>\n",
       "    .dataframe tbody tr th:only-of-type {\n",
       "        vertical-align: middle;\n",
       "    }\n",
       "\n",
       "    .dataframe tbody tr th {\n",
       "        vertical-align: top;\n",
       "    }\n",
       "\n",
       "    .dataframe thead th {\n",
       "        text-align: right;\n",
       "    }\n",
       "</style>\n",
       "<table border=\"1\" class=\"dataframe\">\n",
       "  <thead>\n",
       "    <tr style=\"text-align: right;\">\n",
       "      <th></th>\n",
       "      <th>Contrast</th>\n",
       "      <th>Energy</th>\n",
       "      <th>Homogeneity</th>\n",
       "      <th>Correlation</th>\n",
       "      <th>Dissimilarity</th>\n",
       "      <th>ASM</th>\n",
       "      <th>Area</th>\n",
       "      <th>Perimeter</th>\n",
       "      <th>Epsilon</th>\n",
       "      <th>IsConvex</th>\n",
       "      <th>Class</th>\n",
       "    </tr>\n",
       "  </thead>\n",
       "  <tbody>\n",
       "    <tr>\n",
       "      <th>column type</th>\n",
       "      <td>float64</td>\n",
       "      <td>float64</td>\n",
       "      <td>float64</td>\n",
       "      <td>float64</td>\n",
       "      <td>float64</td>\n",
       "      <td>float64</td>\n",
       "      <td>float64</td>\n",
       "      <td>float64</td>\n",
       "      <td>float64</td>\n",
       "      <td>float64</td>\n",
       "      <td>int64</td>\n",
       "    </tr>\n",
       "    <tr>\n",
       "      <th>null values (nb)</th>\n",
       "      <td>0</td>\n",
       "      <td>0</td>\n",
       "      <td>0</td>\n",
       "      <td>0</td>\n",
       "      <td>0</td>\n",
       "      <td>0</td>\n",
       "      <td>0</td>\n",
       "      <td>0</td>\n",
       "      <td>0</td>\n",
       "      <td>0</td>\n",
       "      <td>0</td>\n",
       "    </tr>\n",
       "    <tr>\n",
       "      <th>null values (%)</th>\n",
       "      <td>0.0</td>\n",
       "      <td>0.0</td>\n",
       "      <td>0.0</td>\n",
       "      <td>0.0</td>\n",
       "      <td>0.0</td>\n",
       "      <td>0.0</td>\n",
       "      <td>0.0</td>\n",
       "      <td>0.0</td>\n",
       "      <td>0.0</td>\n",
       "      <td>0.0</td>\n",
       "      <td>0.0</td>\n",
       "    </tr>\n",
       "  </tbody>\n",
       "</table>\n",
       "</div>"
      ],
      "text/plain": [
       "                 Contrast   Energy Homogeneity Correlation Dissimilarity  \\\n",
       "column type       float64  float64     float64     float64       float64   \n",
       "null values (nb)        0        0           0           0             0   \n",
       "null values (%)       0.0      0.0         0.0         0.0           0.0   \n",
       "\n",
       "                      ASM     Area Perimeter  Epsilon IsConvex  Class  \n",
       "column type       float64  float64   float64  float64  float64  int64  \n",
       "null values (nb)        0        0         0        0        0      0  \n",
       "null values (%)       0.0      0.0       0.0      0.0      0.0    0.0  "
      ]
     },
     "execution_count": 26,
     "metadata": {},
     "output_type": "execute_result"
    }
   ],
   "source": [
    "nullAnalysis(data_as_frame)"
   ]
  },
  {
   "cell_type": "code",
   "execution_count": 27,
   "metadata": {},
   "outputs": [
    {
     "name": "stdout",
     "output_type": "stream",
     "text": [
      "['benign', 'malignant', 'no_tumor']\n"
     ]
    }
   ],
   "source": [
    "cm_plot_labels = ['benign', 'malignant', 'no_tumor']\n",
    "print(cm_plot_labels)"
   ]
  },
  {
   "cell_type": "code",
   "execution_count": 28,
   "metadata": {},
   "outputs": [],
   "source": [
    "X = data_as_frame.drop('Class', axis=1)\n",
    "Y = data_as_frame['Class']\n",
    "x_train, x_test, y_train, y_test = train_test_split(X, Y, test_size=0.05, random_state = 27)"
   ]
  },
  {
   "cell_type": "code",
   "execution_count": 29,
   "metadata": {},
   "outputs": [
    {
     "name": "stdout",
     "output_type": "stream",
     "text": [
      "(1125, 10) (1125,) (60, 10) (60,)\n"
     ]
    }
   ],
   "source": [
    "print(x_train.shape, y_train.shape, x_test.shape, y_test.shape)"
   ]
  },
  {
   "cell_type": "code",
   "execution_count": 30,
   "metadata": {},
   "outputs": [],
   "source": [
    "forest = RandomForestClassifier(n_estimators=50) "
   ]
  },
  {
   "cell_type": "code",
   "execution_count": 31,
   "metadata": {},
   "outputs": [
    {
     "data": {
      "text/plain": [
       "RandomForestClassifier(n_estimators=50)"
      ]
     },
     "execution_count": 31,
     "metadata": {},
     "output_type": "execute_result"
    }
   ],
   "source": [
    "forest.fit(x_train,y_train)"
   ]
  },
  {
   "cell_type": "code",
   "execution_count": 32,
   "metadata": {},
   "outputs": [],
   "source": [
    "y_pred = forest.predict(x_test)"
   ]
  },
  {
   "cell_type": "code",
   "execution_count": 33,
   "metadata": {},
   "outputs": [],
   "source": [
    "# y_test"
   ]
  },
  {
   "cell_type": "code",
   "execution_count": 34,
   "metadata": {},
   "outputs": [
    {
     "data": {
      "text/plain": [
       "array([0, 2, 0, 2, 2, 1, 1, 1, 0, 2, 2, 0, 2, 2, 2, 2, 0, 0, 2, 2, 1, 1,\n",
       "       0, 1, 0, 0, 2, 0, 0, 1, 0, 2, 0, 2, 1, 1, 2, 0, 1, 2, 0, 2, 2, 1,\n",
       "       2, 0, 2, 0, 2, 2, 0, 0, 0, 0, 1, 0, 1, 1, 2, 0], dtype=int64)"
      ]
     },
     "execution_count": 34,
     "metadata": {},
     "output_type": "execute_result"
    }
   ],
   "source": [
    "y_pred"
   ]
  },
  {
   "cell_type": "code",
   "execution_count": 35,
   "metadata": {},
   "outputs": [],
   "source": [
    "def plot_confusion_matrix(cm, classes,title='Confusion matrix'):\n",
    "    \n",
    "    plt.imshow(cm, interpolation='nearest', cmap='YlGnBu')\n",
    "    plt.title(title)\n",
    "    plt.colorbar()\n",
    "    tick_marks = np.arange(len(classes))\n",
    "    plt.xticks(tick_marks, classes, rotation=45)\n",
    "    plt.yticks(tick_marks, classes)\n",
    "    \n",
    "    \n",
    "    fmt = 'd'\n",
    "    thresh = cm.max() / 2.\n",
    "    for i, j in itertools.product(range(cm.shape[0]), range(cm.shape[1])):\n",
    "        plt.text(j, i, format(cm[i, j], fmt),\n",
    "                 horizontalalignment=\"center\",\n",
    "                 color=\"white\" if cm[i, j] > thresh else \"black\")\n",
    "\n",
    "    plt.ylabel('True label')\n",
    "    plt.xlabel('Predicted label')\n",
    "    plt.tight_layout()\n",
    "    plt.show()"
   ]
  },
  {
   "cell_type": "code",
   "execution_count": 36,
   "metadata": {},
   "outputs": [
    {
     "data": {
      "image/png": "[encoded data removed]",
      "text/plain": [
       "<Figure size 432x288 with 2 Axes>"
      ]
     },
     "metadata": {
      "needs_background": "light"
     },
     "output_type": "display_data"
    }
   ],
   "source": [
    "cm = confusion_matrix(y_true=y_test,y_pred=y_pred)\n",
    "plot_confusion_matrix(cm, cm_plot_labels,title='Confusion matrix')"
   ]
  },
  {
   "cell_type": "code",
   "execution_count": 37,
   "metadata": {},
   "outputs": [
    {
     "name": "stdout",
     "output_type": "stream",
     "text": [
      "              precision    recall  f1-score   support\n",
      "\n",
      "           0       0.83      0.79      0.81        24\n",
      "           1       0.86      0.80      0.83        15\n",
      "           2       0.83      0.90      0.86        21\n",
      "\n",
      "    accuracy                           0.83        60\n",
      "   macro avg       0.84      0.83      0.83        60\n",
      "weighted avg       0.83      0.83      0.83        60\n",
      "\n"
     ]
    }
   ],
   "source": [
    "print(classification_report(y_true=y_test,y_pred=y_pred))"
   ]
  },
  {
   "cell_type": "code",
   "execution_count": 38,
   "metadata": {},
   "outputs": [
    {
     "name": "stdout",
     "output_type": "stream",
     "text": [
      "Overall accuracy of training the model is : 83.333333\n"
     ]
    }
   ],
   "source": [
    "rf_acc = accuracy_score(y_true=y_test, y_pred= y_pred)\n",
    "print(\"Overall accuracy of training the model is : %f\" %(rf_acc*100))"
   ]
  },
  {
   "cell_type": "markdown",
   "metadata": {},
   "source": [
    "# Save model"
   ]
  },
  {
   "cell_type": "code",
   "execution_count": 39,
   "metadata": {},
   "outputs": [],
   "source": [
    "model_fname = 'model/rf_model.pkl'"
   ]
  },
  {
   "cell_type": "code",
   "execution_count": 40,
   "metadata": {},
   "outputs": [],
   "source": [
    "pkl.dump(forest,open(model_fname,'wb'))"
   ]
  },
  {
   "cell_type": "markdown",
   "metadata": {},
   "source": [
    "# Done"
   ]
  }
 ],
 "metadata": {
  "kernelspec": {
   "display_name": "Python 3",
   "language": "python",
   "name": "python3"
  },
  "language_info": {
   "codemirror_mode": {
    "name": "ipython",
    "version": 3
   },
   "file_extension": ".py",
   "mimetype": "text/x-python",
   "name": "python",
   "nbconvert_exporter": "python",
   "pygments_lexer": "ipython3",
   "version": "3.10.2"
  }
 },
 "nbformat": 4,
 "nbformat_minor": 2
}
