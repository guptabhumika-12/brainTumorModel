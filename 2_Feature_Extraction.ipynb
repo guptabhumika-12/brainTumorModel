{
 "cells": [
  {
   "cell_type": "code",
   "execution_count": 1,
   "metadata": {},
   "outputs": [],
   "source": [
    "from skimage.io import imread\n",
    "import skimage.feature \n",
    "from sklearn import preprocessing\n",
    "import numpy as np\n",
    "import pandas as pd\n",
    "import cv2 as cv\n",
    "import os\n",
    "import warnings\n",
    "warnings.filterwarnings('ignore')"
   ]
  },
  {
   "cell_type": "code",
   "execution_count": 2,
   "metadata": {},
   "outputs": [],
   "source": [
    "input_data_dir = '4.input'"
   ]
  },
  {
   "cell_type": "code",
   "execution_count": 3,
   "metadata": {},
   "outputs": [
    {
     "name": "stdout",
     "output_type": "stream",
     "text": [
      "Number of samples :  1185\n"
     ]
    }
   ],
   "source": [
    "no_samples = 0\n",
    "labels = os.listdir(input_data_dir)\n",
    "for label in labels:\n",
    "    no_samples += len(os.listdir(os.path.join(input_data_dir,label)))\n",
    "print('Number of samples : ',no_samples)"
   ]
  },
  {
   "cell_type": "code",
   "execution_count": 4,
   "metadata": {},
   "outputs": [],
   "source": [
    "no_cols = 11\n",
    "cols =np.asarray(['Contrast','Energy','Homogeneity','Correlation','Dissimilarity','ASM','Area','Perimeter','Epsilon','IsConvex','Class'])"
   ]
  },
  {
   "cell_type": "code",
   "execution_count": 5,
   "metadata": {},
   "outputs": [],
   "source": [
    "labeling_class = {\n",
    "  \"benign\": 0,\n",
    "  \"malignant\": 1,\n",
    "  \"no_tumor\": 2\n",
    "}"
   ]
  },
  {
   "cell_type": "code",
   "execution_count": 6,
   "metadata": {},
   "outputs": [],
   "source": [
    "def extract_feature():\n",
    "    features = np.ndarray((no_samples, no_cols))\n",
    "    \n",
    "    labels = os.listdir(input_data_dir)\n",
    "    print(labels)\n",
    "    i = 0\n",
    "    for label in labels:\n",
    "        image_names = os.listdir(os.path.join(input_data_dir, label))\n",
    "        total = len(image_names)\n",
    "        print('Total images for ',label,' : ',total)\n",
    "        print(total)\n",
    "        for image_name in image_names:\n",
    "            img = cv.imread(os.path.join(input_data_dir, label, image_name))\n",
    "            img = cv.cvtColor(img, cv.COLOR_RGB2GRAY)\n",
    "            \n",
    "            ret,thresh = cv.threshold(img,127,255,0)\n",
    "            contours,_ = cv.findContours(thresh, 1, 2)\n",
    "            cnt = contours[0]\n",
    "\n",
    "            area = cv.contourArea(cnt)\n",
    "            perimeter = cv.arcLength(cnt,True)\n",
    "            epsilon = 0.1*cv.arcLength(cnt,True)\n",
    "            k = cv.isContourConvex(cnt)\n",
    "            \n",
    "            S = preprocessing.MinMaxScaler((0,11)).fit_transform(img).astype(int)\n",
    "\n",
    "            g = skimage.feature.graycomatrix(S, distances=[1], angles=[0], levels=256, symmetric=False, normed=False)\n",
    "\n",
    "            contrast = skimage.feature.graycoprops(g, 'contrast')\n",
    "            energy = skimage.feature.graycoprops(g,'energy')\n",
    "            homogeneity = skimage.feature.graycoprops(g, 'homogeneity')\n",
    "            correlation = skimage.feature.graycoprops(g, 'correlation')\n",
    "            dissimilarity = skimage.feature.graycoprops(g, 'dissimilarity')\n",
    "            ASM = skimage.feature.graycoprops(g, 'ASM')\n",
    "            \n",
    "            f_arr =  np.asarray([contrast[0][0],energy[0][0],homogeneity[0][0],correlation[0][0],dissimilarity[0][0],ASM[0][0],area,perimeter,epsilon,k, labeling_class[label]], dtype='object')\n",
    "            features[i] = f_arr\n",
    "            i += 1\n",
    "    df = pd.DataFrame(features, columns=cols)\n",
    "    df['Class'] = np.int64(df['Class'])\n",
    "    df.to_csv(\"data.csv\",index= False)"
   ]
  },
  {
   "cell_type": "code",
   "execution_count": 7,
   "metadata": {},
   "outputs": [
    {
     "name": "stdout",
     "output_type": "stream",
     "text": [
      "['benign', 'malignant', 'no_tumor']\n",
      "Total images for  benign  :  395\n",
      "395\n",
      "Total images for  malignant  :  395\n",
      "395\n",
      "Total images for  no_tumor  :  395\n",
      "395\n"
     ]
    }
   ],
   "source": [
    "extract_feature()"
   ]
  },
  {
   "cell_type": "code",
   "execution_count": 8,
   "metadata": {},
   "outputs": [],
   "source": [
    "data_as_frame = pd.read_csv('data.csv')"
   ]
  },
  {
   "cell_type": "code",
   "execution_count": 9,
   "metadata": {},
   "outputs": [
    {
     "data": {
      "text/html": [
       "<div>\n",
       "<style scoped>\n",
       "    .dataframe tbody tr th:only-of-type {\n",
       "        vertical-align: middle;\n",
       "    }\n",
       "\n",
       "    .dataframe tbody tr th {\n",
       "        vertical-align: top;\n",
       "    }\n",
       "\n",
       "    .dataframe thead th {\n",
       "        text-align: right;\n",
       "    }\n",
       "</style>\n",
       "<table border=\"1\" class=\"dataframe\">\n",
       "  <thead>\n",
       "    <tr style=\"text-align: right;\">\n",
       "      <th></th>\n",
       "      <th>Contrast</th>\n",
       "      <th>Energy</th>\n",
       "      <th>Homogeneity</th>\n",
       "      <th>Correlation</th>\n",
       "      <th>Dissimilarity</th>\n",
       "      <th>ASM</th>\n",
       "      <th>Area</th>\n",
       "      <th>Perimeter</th>\n",
       "      <th>Epsilon</th>\n",
       "      <th>IsConvex</th>\n",
       "      <th>Class</th>\n",
       "    </tr>\n",
       "  </thead>\n",
       "  <tbody>\n",
       "    <tr>\n",
       "      <th>0</th>\n",
       "      <td>0.523178</td>\n",
       "      <td>0.534400</td>\n",
       "      <td>0.879987</td>\n",
       "      <td>0.966634</td>\n",
       "      <td>0.274531</td>\n",
       "      <td>0.285584</td>\n",
       "      <td>0.5</td>\n",
       "      <td>3.414214</td>\n",
       "      <td>0.341421</td>\n",
       "      <td>1.0</td>\n",
       "      <td>0</td>\n",
       "    </tr>\n",
       "    <tr>\n",
       "      <th>1</th>\n",
       "      <td>0.523170</td>\n",
       "      <td>0.419387</td>\n",
       "      <td>0.867636</td>\n",
       "      <td>0.966631</td>\n",
       "      <td>0.303373</td>\n",
       "      <td>0.175885</td>\n",
       "      <td>0.0</td>\n",
       "      <td>0.000000</td>\n",
       "      <td>0.000000</td>\n",
       "      <td>0.0</td>\n",
       "      <td>0</td>\n",
       "    </tr>\n",
       "    <tr>\n",
       "      <th>2</th>\n",
       "      <td>0.374648</td>\n",
       "      <td>0.511641</td>\n",
       "      <td>0.885670</td>\n",
       "      <td>0.966433</td>\n",
       "      <td>0.250558</td>\n",
       "      <td>0.261776</td>\n",
       "      <td>11.5</td>\n",
       "      <td>15.071068</td>\n",
       "      <td>1.507107</td>\n",
       "      <td>0.0</td>\n",
       "      <td>0</td>\n",
       "    </tr>\n",
       "    <tr>\n",
       "      <th>3</th>\n",
       "      <td>0.324349</td>\n",
       "      <td>0.546864</td>\n",
       "      <td>0.899062</td>\n",
       "      <td>0.974246</td>\n",
       "      <td>0.219881</td>\n",
       "      <td>0.299060</td>\n",
       "      <td>4.0</td>\n",
       "      <td>7.656854</td>\n",
       "      <td>0.765685</td>\n",
       "      <td>1.0</td>\n",
       "      <td>0</td>\n",
       "    </tr>\n",
       "    <tr>\n",
       "      <th>4</th>\n",
       "      <td>0.332299</td>\n",
       "      <td>0.549499</td>\n",
       "      <td>0.902133</td>\n",
       "      <td>0.972292</td>\n",
       "      <td>0.215157</td>\n",
       "      <td>0.301950</td>\n",
       "      <td>10.0</td>\n",
       "      <td>12.485281</td>\n",
       "      <td>1.248528</td>\n",
       "      <td>1.0</td>\n",
       "      <td>0</td>\n",
       "    </tr>\n",
       "  </tbody>\n",
       "</table>\n",
       "</div>"
      ],
      "text/plain": [
       "   Contrast    Energy  Homogeneity  Correlation  Dissimilarity       ASM  \\\n",
       "0  0.523178  0.534400     0.879987     0.966634       0.274531  0.285584   \n",
       "1  0.523170  0.419387     0.867636     0.966631       0.303373  0.175885   \n",
       "2  0.374648  0.511641     0.885670     0.966433       0.250558  0.261776   \n",
       "3  0.324349  0.546864     0.899062     0.974246       0.219881  0.299060   \n",
       "4  0.332299  0.549499     0.902133     0.972292       0.215157  0.301950   \n",
       "\n",
       "   Area  Perimeter   Epsilon  IsConvex  Class  \n",
       "0   0.5   3.414214  0.341421       1.0      0  \n",
       "1   0.0   0.000000  0.000000       0.0      0  \n",
       "2  11.5  15.071068  1.507107       0.0      0  \n",
       "3   4.0   7.656854  0.765685       1.0      0  \n",
       "4  10.0  12.485281  1.248528       1.0      0  "
      ]
     },
     "execution_count": 9,
     "metadata": {},
     "output_type": "execute_result"
    }
   ],
   "source": [
    "data_as_frame.head()"
   ]
  },
  {
   "cell_type": "markdown",
   "metadata": {},
   "source": [
    "All features extracted and saved into a dataframe."
   ]
  }
 ],
 "metadata": {
  "kernelspec": {
   "display_name": "Python 3",
   "language": "python",
   "name": "python3"
  },
  "language_info": {
   "codemirror_mode": {
    "name": "ipython",
    "version": 3
   },
   "file_extension": ".py",
   "mimetype": "text/x-python",
   "name": "python",
   "nbconvert_exporter": "python",
   "pygments_lexer": "ipython3",
   "version": "3.10.2"
  }
 },
 "nbformat": 4,
 "nbformat_minor": 2
}
